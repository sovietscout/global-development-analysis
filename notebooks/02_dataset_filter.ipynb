{
 "cells": [
  {
   "cell_type": "code",
   "execution_count": 1,
   "metadata": {},
   "outputs": [],
   "source": [
    "import pandas as pd\n",
    "from datasets import DF, Load, Save\n",
    "\n",
    "ctr_df = Load(DF.COUNTRIES)\n",
    "ctr_codes = ctr_df['Country Code (alpha-3)'].to_numpy()"
   ]
  },
  {
   "cell_type": "code",
   "execution_count": 2,
   "metadata": {},
   "outputs": [],
   "source": [
    "pip_df = Load(DF.PIP, raw=True)\n",
    "wdi_df = Load(DF.WDI, raw=True)\n",
    "wiid_df = Load(DF.WIID, raw=True)"
   ]
  },
  {
   "cell_type": "code",
   "execution_count": 4,
   "metadata": {},
   "outputs": [],
   "source": [
    "pip_fil = pip_df[pip_df['country_code'].isin(ctr_codes)]\n",
    "wdi_fil = wdi_df[wdi_df['Country Code'].isin(ctr_codes)]\n",
    "wiid_fil = wiid_df[wiid_df['ISO'].isin(ctr_codes)]"
   ]
  },
  {
   "cell_type": "code",
   "execution_count": 5,
   "metadata": {},
   "outputs": [],
   "source": [
    "Save(DF.PIP, pip_fil)\n",
    "Save(DF.WDI, wdi_fil)\n",
    "Save(DF.WIID, wiid_fil)"
   ]
  }
 ],
 "metadata": {
  "kernelspec": {
   "display_name": "Python 3",
   "language": "python",
   "name": "python3"
  },
  "language_info": {
   "codemirror_mode": {
    "name": "ipython",
    "version": 3
   },
   "file_extension": ".py",
   "mimetype": "text/x-python",
   "name": "python",
   "nbconvert_exporter": "python",
   "pygments_lexer": "ipython3",
   "version": "3.12.3"
  }
 },
 "nbformat": 4,
 "nbformat_minor": 2
}
